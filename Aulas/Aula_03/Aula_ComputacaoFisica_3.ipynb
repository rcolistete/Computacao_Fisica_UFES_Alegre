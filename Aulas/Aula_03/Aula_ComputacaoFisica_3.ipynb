{
 "cells": [
  {
   "cell_type": "markdown",
   "id": "4f50bcdc-5fbf-49b4-8c66-58c54e568440",
   "metadata": {
    "editable": true,
    "slideshow": {
     "slide_type": ""
    },
    "tags": []
   },
   "source": [
    "# Aula 2 - Introdução ao uso de BBC micro:bit com MicroPython\n",
    "## 16/04/2024\n",
    "## Disciplina - [DQF13051 Computação Física](https://github.com/rcolistete/Computacao_Fisica_UFES_Alegre)\n",
    "### Professor : [Roberto Colistete Jr.](https://github.com/rcolistete)\n",
    "#### [DQF - CCENS](http://alegre.ufes.br/ccens/departamento-de-quimica-e-fisica) - [UFES/Alegre](http://alegre.ufes.br/)\n"
   ]
  },
  {
   "cell_type": "markdown",
   "id": "1249762d-9f00-41e7-8538-ae08f6284188",
   "metadata": {
    "jp-MarkdownHeadingCollapsed": true,
    "tags": []
   },
   "source": [
    "## Material"
   ]
  },
  {
   "cell_type": "markdown",
   "id": "2f1fba19-2294-46fc-ba7b-58a2e121d755",
   "metadata": {
    "jp-MarkdownHeadingCollapsed": true
   },
   "source": [
    "- computador com software Mu Editor instalado"
   ]
  },
  {
   "cell_type": "markdown",
   "id": "d9cfb795-c16f-49fa-8319-13ec7a824a2f",
   "metadata": {
    "jp-MarkdownHeadingCollapsed": true
   },
   "source": [
    "- microcontrolador BBC micro:bit v1.x ou 2.0"
   ]
  },
  {
   "cell_type": "markdown",
   "id": "268cf0e0-acf1-4e88-b13e-98e8ac8ddb18",
   "metadata": {
    "jp-MarkdownHeadingCollapsed": true
   },
   "source": [
    "- placa de expansão BBC micro:bit com buzzer/speaker;"
   ]
  },
  {
   "cell_type": "markdown",
   "id": "f0c898d3-eff3-461c-a1e1-b5aa72eb34c6",
   "metadata": {
    "jp-MarkdownHeadingCollapsed": true
   },
   "source": [
    "- cabo microUSB para alimentação e dados entre computador e BBC micro:bit"
   ]
  },
  {
   "cell_type": "markdown",
   "id": "3f4d6eb1-3759-4589-8da0-4e12596b9f7f",
   "metadata": {
    "jp-MarkdownHeadingCollapsed": true,
    "tags": []
   },
   "source": [
    "## Referências"
   ]
  },
  {
   "cell_type": "markdown",
   "id": "f0226fca-a135-4fcb-af63-b5ee898cda1d",
   "metadata": {},
   "source": [
    "- site [BBC micro:bit](https://microbit.org/)"
   ]
  },
  {
   "cell_type": "markdown",
   "id": "dae49742-d4fa-408c-8d9f-df6ed334cc31",
   "metadata": {},
   "source": [
    "- site oficial [Code with Mu/Mu Editor](https://codewith.mu/), com download gratuito para Linux, Mac OS e Windows"
   ]
  },
  {
   "cell_type": "markdown",
   "id": "d8dfa1cc-a2a2-4ab7-a8b8-cb23209d9a01",
   "metadata": {},
   "source": [
    "- documentação oficial de [MicroPython para BBC micro:bit](https://microbit-micropython.readthedocs.io/)"
   ]
  },
  {
   "cell_type": "markdown",
   "id": "cc32cf48-a145-4439-a1e0-20a281a6a384",
   "metadata": {
    "editable": true,
    "slideshow": {
     "slide_type": ""
    },
    "tags": []
   },
   "source": [
    "## Uso de sensores de BBC micro:bit com MicroPython"
   ]
  },
  {
   "cell_type": "markdown",
   "id": "8b763431-12e9-4c1f-869f-7a37bc9fb9f9",
   "metadata": {},
   "source": [
    "Todo o código-fonte listado a seguir é MicroPython e deve ser rodado no microcontrolador BBC micro:bit."
   ]
  },
  {
   "cell_type": "markdown",
   "id": "d5dd811e-b98d-454b-a66d-66e6425f7389",
   "metadata": {
    "jp-MarkdownHeadingCollapsed": true,
    "tags": []
   },
   "source": [
    "### Software Mu Editor conectado via cabo microUSB a microcontrolador BBC micro:bit rodando MicroPython"
   ]
  },
  {
   "cell_type": "markdown",
   "id": "2706982c-eea1-4115-8913-00498907ac40",
   "metadata": {},
   "source": [
    "Ao iniciar o Mu Editor, clique no botão \"Modo\" (é o 1o à esquerda, tem o ícone da cobrinha de Python) para confirmar que está no modo \"BBC micro:bit\" (é o 1o na lista vertical de modos)."
   ]
  },
  {
   "cell_type": "markdown",
   "id": "a1158941-9944-45ad-a7bb-d3644b1947ad",
   "metadata": {},
   "source": [
    "Conecte o cabo microUSB entre a porta USB do computador e a porta microUSB do BBC micro:bit :\n",
    "- um LED amarelo deve acender ao lado do conector microUSB, e no BBC micro:bit v2 também acende um LED vermelho do outro lado do conector microUSB;\n",
    "- deve aparecer uma mensagem no sistema operacional (Linux, Mac OS ou Windows) para montar o dispositivo \"MICROBIT\", como se fosse um pendrive, confirme."
   ]
  },
  {
   "cell_type": "markdown",
   "id": "f7acef1b-ab7a-4c8d-8f83-221ee038b94a",
   "metadata": {},
   "source": [
    "Caso não tenha MicroPython instalado no BBC micro:bit, então crie um novo documento MicroPython vazio clicando no botão \"Novo\" (é o 2o à esquerda, tem o ícone de \"+\"), depois clique no botão \"Transferir\" (é o 5o à esquerda, tem o ícone de uma pequena seta para baixo apontando para o ícone de BBC micro:bit)."
   ]
  },
  {
   "cell_type": "markdown",
   "id": "f40362e0-9282-425f-9520-eaf52bac880b",
   "metadata": {},
   "source": [
    "Com MicroPython instalado no BBC micro:bit, clique no botão \"REPL\" (é o 7o contando d esquerda, tem o ícone de teclado), então uma janela inferior será exibida no Mu Editor com título \"REPL BBC microbit\"."
   ]
  },
  {
   "cell_type": "markdown",
   "id": "a7bbbaa6-97e7-4e88-a717-0c3f2436675f",
   "metadata": {},
   "source": [
    "\"REPL\" quer dizer [\"Read, Evaluate, Print, and Loop\"](https://realpython.com/python-repl/#what-is-pythons-interactive-shell-or-repl), ou seja, é o modo interativo tanto em Python como em MicroPython."
   ]
  },
  {
   "cell_type": "markdown",
   "id": "e43297f1-aa3e-4a05-baad-7ff9d4916a7c",
   "metadata": {},
   "source": [
    "Mensagem ao iniciar o modo interativo/terminal do MicroPython em BBC micro:bit v1.x :"
   ]
  },
  {
   "cell_type": "markdown",
   "id": "397d8a7f-3046-429f-a0ea-d03b03f12621",
   "metadata": {},
   "source": [
    "```\n",
    "MicroPython v1.9.2-34-gd64154c73 on 2017-09-01; micro:bit v1.1.1 with nRF51822\n",
    "Type \"help()\" for more information.\n",
    ">>>\n",
    "```"
   ]
  },
  {
   "cell_type": "markdown",
   "id": "a7350fa8-c347-4acc-8fbe-2dc6c59cd3fc",
   "metadata": {},
   "source": [
    "E em BBC micro:bit v2 :"
   ]
  },
  {
   "cell_type": "markdown",
   "id": "e8fb19f4-89b9-44bb-a790-bc325bf5cde8",
   "metadata": {},
   "source": [
    "```\n",
    "MicroPython v1.15-64-g1e2f0d280 on 2021-06-30; micro:bit v2.0.0 with nRF52833\n",
    "Type \"help()\" for more information.\n",
    ">>>\n",
    "```"
   ]
  },
  {
   "cell_type": "markdown",
   "id": "d7980a8c-37a5-456b-94bd-710969fedde5",
   "metadata": {},
   "source": [
    "A documentação oficial de [MicroPython para BBC micro:bit](https://microbit-micropython.readthedocs.io/) é a referência mais atual e recomendada tanto para começar a programar como consultar referência."
   ]
  },
  {
   "cell_type": "markdown",
   "id": "e94bb7f1-5446-45cc-b56a-bf65a35f39c4",
   "metadata": {},
   "source": [
    "O padrão é mostrar a documentação para BBC micro:bit v2, por isso que aparece no canto inferior esquerdo \"v:v2-docs\", mas basta clicar para poder selecionar outras versões, sendo que a \"v1.1.1\" é a última versão da documentação para BBC micro:bit v1.x."
   ]
  },
  {
   "attachments": {
    "8d8ef3d6-9f05-433d-8ff1-2f434f80a57b.png": {
     "image/png": "[encoded data removed]"
    }
   },
   "cell_type": "markdown",
   "id": "c954b274-912f-4f29-9aa0-f12c681e1216",
   "metadata": {},
   "source": [
    "![image.png](attachment:8d8ef3d6-9f05-433d-8ff1-2f434f80a57b.png)"
   ]
  },
  {
   "cell_type": "markdown",
   "id": "22f6cbe8-df64-4ebe-be91-de8bb77eaed0",
   "metadata": {},
   "source": [
    "A documentação para BBC micro:bit v2 distingue novos recursos via comentários e anotação \"V2\", logo é possível usar tal versão da documentação para todas as versões de BBC micro:bit desde que se preste atenção."
   ]
  },
  {
   "attachments": {
    "c624a2e7-6fc7-405d-9f11-1bdc4f34592b.png": {
     "image/png": "[encoded data removed]"
    }
   },
   "cell_type": "markdown",
   "id": "fec2b780-1b78-47a7-a768-9c55ae4c4194",
   "metadata": {},
   "source": [
    "![image.png](attachment:c624a2e7-6fc7-405d-9f11-1bdc4f34592b.png)"
   ]
  },
  {
   "cell_type": "markdown",
   "id": "e7362c02-4143-4924-9b8a-a77db35d4929",
   "metadata": {},
   "source": [
    "Na janela interativa (REPL) do Mu Editor, digite \"21+21\" e a tecla Enter, o texto de entrada aparece após o cursor \">>>\" e o resultado (42, citação do [livro \"O Guia do Mochileiro das Galáxias\", de Douglas Adams](https://olhardigital.com.br/2024/02/26/ciencia-e-espaco/por-que-42-e-resposta-para-a-vida-o-universo-e-tudo-mais/)) na linha seguinte (mas sem as cores de sintaxe na janela REPL) :"
   ]
  },
  {
   "cell_type": "markdown",
   "id": "69782333-3cb1-4dc8-9c63-d089a8bc3684",
   "metadata": {},
   "source": [
    "```python\n",
    ">>> 21+21\n",
    "42\n",
    "```"
   ]
  },
  {
   "cell_type": "markdown",
   "id": "17188182-e616-4240-bacd-77122e4cb63a",
   "metadata": {},
   "source": [
    "Pode-se usar na janela interativa (REPL) :"
   ]
  },
  {
   "cell_type": "markdown",
   "id": "1e96510f-f5b2-40a2-b385-ac45fc343262",
   "metadata": {},
   "source": [
    "- **setas para cima e para baixo para acessar as últimas linhas digitadas**;"
   ]
  },
  {
   "cell_type": "markdown",
   "id": "7290868e-7df3-429e-a35e-33d1092abb64",
   "metadata": {},
   "source": [
    "- **tecla TAB para completar nomes** de comandos MicroPython, variáveis, funções, etc;"
   ]
  },
  {
   "cell_type": "markdown",
   "id": "8bcea20a-f217-425b-86a1-12af881742a3",
   "metadata": {},
   "source": [
    "- teclas HOME (ou Ctrl+A) e END (ou Ctrl+E) para ir para início ou final da linha;"
   ]
  },
  {
   "cell_type": "markdown",
   "id": "eb0bc35a-6638-4437-b596-8aba7fa33461",
   "metadata": {},
   "source": [
    "- **botão esquerdo do mouse para selecionar texto em uma ou mais linhas**;"
   ]
  },
  {
   "cell_type": "markdown",
   "id": "7fed4b55-0e0d-42d9-b7a4-fe3a2824b7fd",
   "metadata": {},
   "source": [
    "- teclas Shift+seta esquerda e Shift+seta direita para selecionar texto na mesma linha;"
   ]
  },
  {
   "cell_type": "markdown",
   "id": "25202fa9-7386-40fe-b5e6-7f617a2420e9",
   "metadata": {},
   "source": [
    "- **teclas Ctrl+Shift+C ou botão direito do mouse para copiar texto já selecionado**;"
   ]
  },
  {
   "cell_type": "markdown",
   "id": "a2d383ee-38ab-4c60-ab74-17ac66f7b597",
   "metadata": {},
   "source": [
    "- **teclas Ctrl+Shift+V ou botão direito do mouse para colar texto**;"
   ]
  },
  {
   "cell_type": "markdown",
   "id": "80da2265-f1a2-497b-b07a-ea608966b96a",
   "metadata": {},
   "source": [
    "- **teclas Ctrl+C para interromper um programa MicroPython rodando**;"
   ]
  },
  {
   "cell_type": "markdown",
   "id": "13db8b40-b9e5-4ce5-90e6-bd12d92bf4ee",
   "metadata": {},
   "source": [
    "- **teclas Ctrl+D para dar reinicializar (soft reset) o MicroPython**, apagando toda a memória de linhas digitadas, variáveis definidas, funções definidas, etc, no modo interativo;"
   ]
  },
  {
   "cell_type": "markdown",
   "id": "0524ce03-c273-48dd-bfc2-44c9df3ceaa2",
   "metadata": {},
   "source": [
    "- teclas Ctrl+E para entrar no modo \"colar\", permitindo colar mais de uma linha de texto, útil para copiar blocos de código-fonte MicroPython;"
   ]
  },
  {
   "cell_type": "markdown",
   "id": "b1c5290f-f972-403d-b3f1-e272aa705589",
   "metadata": {},
   "source": [
    "- mouse para mudar o tamanho da janela ao clicar e arrastar na parte superior;"
   ]
  },
  {
   "cell_type": "markdown",
   "id": "18f2f846-70d1-471e-a25d-4c1295d7f46e",
   "metadata": {},
   "source": [
    "- os botões \"Aumentar\" (ícone de lupa com sinal de \"+\") e \"Diminuir\" (ícone de lupa com sinal de \"-\") para alterar o tamanho dos caracteres de texto (altera também a janela superior de documentos)."
   ]
  },
  {
   "cell_type": "markdown",
   "id": "7c3bf7c7-3605-4af0-a0da-efd5e487049f",
   "metadata": {
    "tags": []
   },
   "source": [
    "#### Ajuda interativa via `help()`"
   ]
  },
  {
   "cell_type": "markdown",
   "id": "a87a6dcd-3403-4e57-b64d-849714e40f4b",
   "metadata": {},
   "source": [
    "O modo interativo (REPL) tem comando de ajuda ('help') disponível :"
   ]
  },
  {
   "cell_type": "markdown",
   "id": "7d38c099-d3b6-4b16-a3eb-b5366045b15d",
   "metadata": {
    "editable": true,
    "slideshow": {
     "slide_type": ""
    },
    "tags": []
   },
   "source": [
    "```\n",
    ">>> help()\n",
    "Welcome to MicroPython on the micro:bit!\n",
    "\n",
    "Try these commands:\n",
    "  display.scroll('Hello')\n",
    "  running_time()\n",
    "  sleep(1000)\n",
    "  button_a.is_pressed()\n",
    "What do these commands do? Can you improve them? HINT: use the up and down\n",
    "arrow keys to get your command history. Press the TAB key to auto-complete\n",
    "unfinished words (so 'di' becomes 'display' after you press TAB). These\n",
    "tricks save a lot of typing and look cool!\n",
    "\n",
    "Explore:\n",
    "Type 'help(something)' to find out about it. Type 'dir(something)' to see what\n",
    "it can do. Type 'dir()' to see what stuff is available. For goodness sake,\n",
    "don't type 'import this'.\n",
    "\n",
    "Control commands:\n",
    "  CTRL-C        -- stop a running program\n",
    "  CTRL-D        -- on a blank line, do a soft reset of the micro:bit\n",
    "  CTRL-E        -- enter paste mode, turning off auto-indent\n",
    "\n",
    "For a list of available modules, type help('modules')\n",
    "\n",
    "For more information about Python, visit: http://python.org/\n",
    "To find out about MicroPython, visit: http://micropython.org/\n",
    "Python/micro:bit documentation is here: https://microbit-micropython.readthedocs.io/\n",
    "```"
   ]
  },
  {
   "cell_type": "markdown",
   "id": "9a59250a-2e23-4874-869d-caea72c57b16",
   "metadata": {
    "jp-MarkdownHeadingCollapsed": true,
    "tags": []
   },
   "source": [
    "#### Módulos pré-instalados no MicroPython para BBC micro:bit"
   ]
  },
  {
   "cell_type": "markdown",
   "id": "99f0efb9-1afc-4742-b03a-d230911d3ad1",
   "metadata": {},
   "source": [
    "BBC micro:bit (v2) :"
   ]
  },
  {
   "cell_type": "markdown",
   "id": "8988469c-3821-452b-9f6d-180c55bb7dba",
   "metadata": {},
   "source": [
    "```python\n",
    ">>> help('modules')\n",
    "__main__          machine           os                uerrno\n",
    "antigravity       math              radio             urandom\n",
    "audio             microbit          speech            ustruct\n",
    "builtins          micropython       this              usys\n",
    "gc                music             uarray            utime\n",
    "love              neopixel          ucollections\n",
    "Plus any modules on the filesystem\n",
    "```"
   ]
  },
  {
   "cell_type": "markdown",
   "id": "c185fab2-49ee-4664-80e4-9f2c13685b13",
   "metadata": {},
   "source": [
    "O módulo MicroPython `microbit` é o mais importante no BBC micro:bit pois permite interagir com vários recursos de hardware, como butons, tela de 5x5 LED's, sensor de temperatura, sensor de luz, acelerômetro, magnetômetro, etc. Em breve usaremos tal módulo."
   ]
  },
  {
   "cell_type": "markdown",
   "id": "53a76ff3-9c2b-4860-8db9-3e0be6b43ea7",
   "metadata": {
    "tags": []
   },
   "source": [
    "##### Tarefa"
   ]
  },
  {
   "cell_type": "markdown",
   "id": "4303e205-ebeb-4089-a56c-8f9b1cc008b4",
   "metadata": {},
   "source": [
    "Experimente importar os seguintes módulos :"
   ]
  },
  {
   "cell_type": "markdown",
   "id": "ffc89d3d-3635-4b75-8da2-1ebf966e28cf",
   "metadata": {},
   "source": [
    "1. \"antigravity\" :\n",
    "```python\n",
    ">>> import antigravity\n",
    "+-xkcd.com/353---------------------------------------------------+\n",
    "|                                                                |\n",
    "|                                                    \\0/         |\n",
    "|                                                  /   \\         |\n",
    "|        You're flying!                  MicroPython!  /|        |\n",
    "|            How?                                      \\ \\       |\n",
    "|            /                                                   |\n",
    "|          0                                                     |\n",
    "|         /|\\                                                    |\n",
    "|          |                                                     |\n",
    "|-----____/_\\______________________________----------------------|\n",
    "|                                                                |\n",
    "+----------------------------------------------------------------+\n",
    "```"
   ]
  },
  {
   "cell_type": "markdown",
   "id": "add41b6e-d38d-4e8d-9ce5-5244711c400a",
   "metadata": {},
   "source": [
    "2. \"love\" (observe a tela de 5x5 LED's do BBC micro:bit) :\n",
    "```python\n",
    ">>> import love\n",
    ">>> love.badaboom()\n",
    "```"
   ]
  },
  {
   "cell_type": "markdown",
   "id": "5e53fbb6-db3a-4be5-9454-c03d90dfa66e",
   "metadata": {
    "editable": true,
    "slideshow": {
     "slide_type": ""
    },
    "tags": []
   },
   "source": [
    "3. \"this\" :\n",
    "```python\n",
    ">>> import this\n",
    "\n",
    ">>> this.authors()\n",
    "```"
   ]
  },
  {
   "cell_type": "markdown",
   "id": "f73ff8c5-4b0f-48be-a3dc-70e3cfcb08d5",
   "metadata": {
    "jp-MarkdownHeadingCollapsed": true,
    "tags": []
   },
   "source": [
    "#### gc : gerenciando memória RAM livre em MicroPython"
   ]
  },
  {
   "cell_type": "markdown",
   "id": "0a14e7bf-34e1-485f-a610-a80751f88daa",
   "metadata": {},
   "source": [
    "A memória RAM livre do BBC micro:bit com MicroPython instalado é pequena, ainda mais na v1.x : 8-9 KB ! Mas no BBC micro:bit v2 tem bem mais, uns 62 KB livres. Basta usar o módulo MicroPython `gc` (de \"garbage collector\") e a função `gc.mem_free()` para obter o número de bytes livres da RAM :"
   ]
  },
  {
   "cell_type": "markdown",
   "id": "7cf33275-03b8-46e3-a803-754eee558ae3",
   "metadata": {},
   "source": [
    "```python\n",
    ">>> import gc\n",
    ">>> gc.mem_free()\n",
    "63984\n",
    "```"
   ]
  },
  {
   "cell_type": "markdown",
   "id": "bee46f1b-5c8a-464f-b9e8-8b65e956dbfa",
   "metadata": {},
   "source": [
    "E tal memória RAM vai sendo consumida ao usar o MicroPython no modo interativo, rodar programas, etc. Pode-se reorganizá-la e optimizá-la, liberando mais memória livre, via `gc.collect()`"
   ]
  },
  {
   "cell_type": "markdown",
   "id": "a0249dcc-93a1-42f9-aacb-10fe6a65353f",
   "metadata": {},
   "source": [
    "```python\n",
    ">>> gc.collect()\n",
    ">>> gc.mem_free()\n",
    "64032\n",
    "```"
   ]
  },
  {
   "cell_type": "markdown",
   "id": "399d691c-4998-44db-b9d5-f0079e7ee590",
   "metadata": {
    "jp-MarkdownHeadingCollapsed": true,
    "tags": []
   },
   "source": [
    "#### os.uname() : versão do BBC micro:bit e do MicroPython"
   ]
  },
  {
   "cell_type": "markdown",
   "id": "ebcd1e6b-c840-4908-9726-92d33d95f228",
   "metadata": {},
   "source": [
    "As informações sobre versão do BBC micro:bit e do MicroPython, presentes na mensagem ao iniciar o modo interativo na janela REPL, podem também ser obtidas via :"
   ]
  },
  {
   "cell_type": "markdown",
   "id": "82f117f0-e88d-464e-8ec0-0f92513ac38a",
   "metadata": {},
   "source": [
    "```python\n",
    ">>> import os\n",
    ">>> os.uname()\n",
    "(sysname='microbit', nodename='microbit', release='2.0.0', version='micro:bit v2.0.0+b51a405 on 2021-06-30; MicroPython v1.15-64-g1e2f0d280 on 2021-06-30', machine='micro:bit with nRF52833')\n",
    "```"
   ]
  },
  {
   "cell_type": "markdown",
   "id": "b8c5bccf-bb78-42f6-9441-7cad018216e1",
   "metadata": {},
   "source": [
    "no caso acima para BBC micro:bit v2."
   ]
  },
  {
   "cell_type": "markdown",
   "id": "6ad2266a-5499-4443-a53e-5a509fe47afa",
   "metadata": {},
   "source": [
    "O BBC micro:bit tem 2 botões na parte frontal (ao lado da tela de 5x5 LED's), nomeados botão A e botão B e funcionam como entrada de dados interativa para um usuário interagir."
   ]
  },
  {
   "cell_type": "markdown",
   "id": "89926b01-d62e-4e4b-93c8-c3dec78126b5",
   "metadata": {},
   "source": [
    "Referências :\n",
    "- [Buttons tutorial](https://microbit-micropython.readthedocs.io/en/v2-docs/tutorials/buttons.html);\n",
    "- [micro:bit Micropython API - Buttons](https://microbit-micropython.readthedocs.io/en/v2-docs/microbit_micropython_api.html#buttons);\n",
    "- [Microbit Module Buttons](https://microbit-micropython.readthedocs.io/en/v2-docs/button.html)."
   ]
  },
  {
   "cell_type": "markdown",
   "id": "a084aa84-235b-4514-8082-65d05b876d86",
   "metadata": {},
   "source": [
    "O módulo MicroPython `microbit` precisa ser importado para a leitura dos botões. Exemplo interativo, na 2a vez o botão A estava pressionado :"
   ]
  },
  {
   "cell_type": "markdown",
   "id": "ab832f00-2492-43ec-bd44-40b16200a05a",
   "metadata": {},
   "source": [
    "```python\n",
    ">>> from microbit import *\n",
    ">>> button_a.\n",
    "get_presses     is_pressed      was_pressed\n",
    ">>> button_a.is_pressed()\n",
    "False\n",
    ">>> button_a.is_pressed()\n",
    "True\n",
    "```"
   ]
  },
  {
   "cell_type": "markdown",
   "id": "191ebcbb-8327-4134-b12b-020b4e22351c",
   "metadata": {},
   "source": [
    "Aqui um loop infinito (pode ser cancelado com `Ctrl+C`) lendo botão A para aumentar um contador e mostrar na janela interativa (REPL) o número de `A`'s pressionados via `print()` do (Micro)Python :"
   ]
  },
  {
   "cell_type": "markdown",
   "id": "db6edef3-8f10-4975-a30e-5168fe9c345b",
   "metadata": {},
   "source": [
    "```python\n",
    "from microbit import *\n",
    "n = 0\n",
    "while True:\n",
    "    if button_a.is_pressed():\n",
    "        n += 1\n",
    "    print(\"A\"*n)\n",
    "    sleep(200)\n",
    "```"
   ]
  },
  {
   "cell_type": "markdown",
   "id": "8935121a-5a6b-4829-a6ba-52d76b47a555",
   "metadata": {},
   "source": [
    "#### Tarefa"
   ]
  },
  {
   "cell_type": "markdown",
   "id": "44b9c994-ee6a-4268-bbb2-9ec07f6bd6be",
   "metadata": {},
   "source": [
    "Use um loop infinito lendo botões A e B para aumentar e diminuir um contador e mostrar o mostrar o valor numérico na janela interativa (REPL) do Mu Editor."
   ]
  },
  {
   "cell_type": "markdown",
   "id": "096a2c75-c912-4622-a98b-45ca23b10770",
   "metadata": {},
   "source": [
    "Resposta :\n",
    "```python\n",
    "\n",
    "```"
   ]
  },
  {
   "cell_type": "markdown",
   "id": "950a37bf-9f93-44a4-a92e-5a7316a8341f",
   "metadata": {
    "jp-MarkdownHeadingCollapsed": true,
    "tags": []
   },
   "source": [
    "### Uso avançado de tela de 5x5 LED's vermelhos do BBC micro:bit"
   ]
  },
  {
   "cell_type": "markdown",
   "id": "626d6483-8efa-40f8-97d9-6db9ced8221b",
   "metadata": {},
   "source": [
    "O BBC micro:bit tem uma matriz quadrada de 5x5=25 LED's (Light Emitting Diode - Diodo Emissor de Luz) vermelhos na parte frontal, e funcionam como saída de dados interativa para um usuário visualizar caracteres fixos, texto rolando, imagens, animações, gráficos, etc."
   ]
  },
  {
   "cell_type": "markdown",
   "id": "0b5b2a96-da94-4584-b183-5c9a3fe335a3",
   "metadata": {},
   "source": [
    "Referências :\n",
    "- [Hello World tutorial](https://microbit-micropython.readthedocs.io/en/v2-docs/tutorials/hello.html);\n",
    "- [Images tutorial](https://microbit-micropython.readthedocs.io/en/v2-docs/tutorials/images.html);\n",
    "- [micro:bit Micropython API - Display](https://microbit-micropython.readthedocs.io/en/v2-docs/microbit_micropython_api.html#display);\n",
    "- [Microbit Module - Display](https://microbit-micropython.readthedocs.io/en/v2-docs/display.html);\n",
    "- [Microbit Module - Image](https://microbit-micropython.readthedocs.io/en/v2-docs/image.html)."
   ]
  },
  {
   "cell_type": "markdown",
   "id": "2938c3ce-b0fe-4de9-ba86-454277ef68b8",
   "metadata": {},
   "source": [
    "O submódulo `display` do módulo MicroPython `microbit` precisa ser importado para usar a tela de 5x5 LED's.  \n",
    "Exemplo mostrando as funções do submódulo `display`, usando `display.scroll()` para exibir texto rolando e exibindo imagem de coração com `display.show()` :"
   ]
  },
  {
   "cell_type": "markdown",
   "id": "9c992e96-db87-48d0-a6aa-80b978b30669",
   "metadata": {},
   "source": [
    "```python\n",
    ">>> from microbit import *\n",
    ">>> display.\n",
    "clear           get_pixel       is_on           off\n",
    "on              read_light_level                scroll\n",
    "set_pixel       show\n",
    ">>> display.scroll(\"UFES @ Alegre-ES\")\n",
    "```"
   ]
  },
  {
   "cell_type": "markdown",
   "id": "23f2a024-e49e-4db6-921d-20e695f3c015",
   "metadata": {},
   "source": [
    "Outro exemplo mostrando imagens pré-definidas e funções do submódulo `Image`, exibindo imagem de coração com `display.show()` e depois animação com ponteiros de relógio :"
   ]
  },
  {
   "cell_type": "markdown",
   "id": "04671f7d-d48e-482a-a375-4a39405cbed9",
   "metadata": {
    "slideshow": {
     "slide_type": "slide"
    }
   },
   "source": [
    "```python\n",
    ">>> from microbit import *\n",
    ">>> Image.\n",
    "copy            __bases__       __dict__        ALL_ARROWS\n",
    "ALL_CLOCKS      ANGRY           ARROW_E         ARROW_N\n",
    "ARROW_NE        ARROW_NW        ARROW_S         ARROW_SE\n",
    "ARROW_SW        ARROW_W         ASLEEP          BUTTERFLY\n",
    "CHESSBOARD      CLOCK1          CLOCK10         CLOCK11\n",
    "CLOCK12         CLOCK2          CLOCK3          CLOCK4\n",
    "CLOCK5          CLOCK6          CLOCK7          CLOCK8\n",
    "CLOCK9          CONFUSED        COW             DIAMOND\n",
    "DIAMOND_SMALL   DUCK            FABULOUS        GHOST\n",
    "GIRAFFE         HAPPY           HEART           HEART_SMALL\n",
    "HOUSE           MEH             MUSIC_CROTCHET  MUSIC_QUAVER\n",
    "MUSIC_QUAVERS   NO              PACMAN          PITCHFORK\n",
    "RABBIT          ROLLERSKATE     SAD             SILLY\n",
    "SKULL           SMILE           SNAKE           SQUARE\n",
    "SQUARE_SMALL    STICKFIGURE     SURPRISED       SWORD\n",
    "TARGET          TORTOISE        TRIANGLE        TRIANGLE_LEFT\n",
    "TSHIRT          UMBRELLA        XMAS            YES\n",
    "blit            crop            fill            get_pixel\n",
    "height          invert          set_pixel       shift_down\n",
    "shift_left      shift_right     shift_up        width\n",
    ">>> display.show(Image.HEART)\n",
    ">>> display.show(Image.ALL_CLOCKS)\n",
    "```"
   ]
  },
  {
   "cell_type": "markdown",
   "id": "d5cefe2e-3aea-415f-8691-96c1fa30a626",
   "metadata": {},
   "source": [
    "Aqui um loop infinito (pode ser cancelado com `Ctrl+C`) lendo botão A para aumentar um contador (entre 0 e 9), mostrar na tela de 5x5 LED's e na janela interativa (REPL) :"
   ]
  },
  {
   "cell_type": "markdown",
   "id": "8cde89a5-cadd-4330-ae7f-dceb184485aa",
   "metadata": {},
   "source": [
    "```python\n",
    "from microbit import *\n",
    "n = 0\n",
    "while True:\n",
    "    if button_a.is_pressed() and (n < 9):\n",
    "        n += 1\n",
    "    display.show(n)\n",
    "    print(n)\n",
    "    sleep(400)\n",
    "```"
   ]
  },
  {
   "cell_type": "markdown",
   "id": "1c8a45cc-2d82-4b44-bac5-f8338815cc51",
   "metadata": {},
   "source": [
    "#### Tarefa"
   ]
  },
  {
   "cell_type": "markdown",
   "id": "ffbc7ab2-0502-409b-88c3-7ff8e4d0b613",
   "metadata": {},
   "source": [
    "Use um loop infinito lendo botões A e B para aumentar e diminuir um contador (entre 0 e 9) e mostrar o mostrar o valor numérico na tela de 5x5 LED's e na janela interativa (REPL) do Mu Editor."
   ]
  },
  {
   "cell_type": "markdown",
   "id": "d5c062cc-0f0f-4a70-b24d-be8db9c3ade1",
   "metadata": {},
   "source": [
    "Resposta :\n",
    "```python\n",
    "\n",
    "```"
   ]
  },
  {
   "cell_type": "markdown",
   "id": "e3d3b761-e412-4718-a836-50f9a4d60683",
   "metadata": {
    "jp-MarkdownHeadingCollapsed": true,
    "tags": []
   },
   "source": [
    "### Leitura de sensor de temperatura do BBC micro:bit"
   ]
  },
  {
   "cell_type": "markdown",
   "id": "393cce88-6645-4ae5-a8fd-cb112f02062e",
   "metadata": {},
   "source": [
    "O BBC micro:bit tem um sensor de temperatura no microcontrolador, que é usualmente mais quente que a temperatura ambiente."
   ]
  },
  {
   "cell_type": "markdown",
   "id": "6c1b6a6a-2bea-409e-b5f7-a8aa1e10f4fd",
   "metadata": {},
   "source": [
    "Referências :\n",
    "- [micro:bit Micropython API - the microbit module](https://microbit-micropython.readthedocs.io/en/v2-docs/microbit_micropython_api.html#the-microbit-module);\n",
    "- [Microbit Module - Temperature](https://microbit-micropython.readthedocs.io/en/v2-docs/microbit.html#microbit.temperature)."
   ]
  },
  {
   "cell_type": "markdown",
   "id": "616666c2-8af2-4fdf-bbf4-357bb5496322",
   "metadata": {},
   "source": [
    "O módulo MicroPython `microbit` precisa ser importado para a leitura da temperatura do BBC micro:bit, a função `temperature()` retorna um valor inteiro em graus Celsius :"
   ]
  },
  {
   "cell_type": "markdown",
   "id": "3a7e810a-a85e-4214-a2c6-04fabe49c1b4",
   "metadata": {},
   "source": [
    "```python\n",
    ">>> from microbit import *\n",
    ">>> temperature()\n",
    "27\n",
    "```"
   ]
  },
  {
   "cell_type": "markdown",
   "id": "0a91c83f-37c6-4145-9380-8a1876466c82",
   "metadata": {
    "jp-MarkdownHeadingCollapsed": true,
    "tags": []
   },
   "source": [
    "### Leitura do sensor de luz via os 5x5 LED's do BBC micro:bit"
   ]
  },
  {
   "cell_type": "markdown",
   "id": "c6d8a284-d8c8-4cc5-8538-95c126515506",
   "metadata": {},
   "source": [
    "O BBC micro:bit consegue usar os 5x5 LED's de forma reversa (LED é diodo emissor de luz) como sensor de luz aproximado, retornando um número entre 0 (zero, escuro) e 255 (brilho máximo de luz), mas sem calibração com alguma unidade física (lux, etc)."
   ]
  },
  {
   "cell_type": "markdown",
   "id": "749a1544-98b1-480d-9fbe-5f66e0d0d81b",
   "metadata": {},
   "source": [
    "Referências :\n",
    "- [micro:bit Micropython API - the microbit module](https://microbit-micropython.readthedocs.io/en/v2-docs/microbit_micropython_api.html#the-microbit-module);\n",
    "- [Microbit Module - Display](https://microbit-micropython.readthedocs.io/en/v2-docs/display.html#microbit.display.read_light_level)."
   ]
  },
  {
   "cell_type": "markdown",
   "id": "ca48dd13-cdd4-4702-9a40-2168633298b7",
   "metadata": {},
   "source": [
    "O módulo MicroPython `microbit` precisa ser importado para a leitura da intensidade luminosa sobre a parte frontal do BBC micro:bit, via função `read_light_level()` :"
   ]
  },
  {
   "cell_type": "markdown",
   "id": "e86daaa0-20e6-432d-afa0-bdf9d56cf6cb",
   "metadata": {},
   "source": [
    "```python\n",
    ">>> from microbit import *\n",
    ">>> display.read_light_level()\n",
    "174\n",
    "```"
   ]
  },
  {
   "cell_type": "markdown",
   "id": "cbdf1609-db91-4226-b9b7-13eace65bc6b",
   "metadata": {
    "jp-MarkdownHeadingCollapsed": true
   },
   "source": [
    "### Leitura de gestos a partir do acelerômetro do BBC micro:bit"
   ]
  },
  {
   "cell_type": "markdown",
   "id": "d8e6b9af-01d0-46f4-bc57-19f42967c6cb",
   "metadata": {},
   "source": [
    "O acelerômetro 3D do BBC micro:bit permite a detecção de alguns gestos/movimentos."
   ]
  },
  {
   "cell_type": "markdown",
   "id": "c6d007a0-d84c-4627-af8f-afbe650ceb24",
   "metadata": {},
   "source": [
    "Referências :\n",
    "- [Gestures tutorial](https://microbit-micropython.readthedocs.io/en/v2-docs/tutorials/gestures.html);\n",
    "- [micro:bit Micropython API - Accelerometer](https://microbit-micropython.readthedocs.io/en/v2-docs/microbit_micropython_api.html#accelerometer);\n",
    "- [Microbit Module - Accelerometer](https://microbit-micropython.readthedocs.io/en/v2-docs/accelerometer.html)."
   ]
  },
  {
   "cell_type": "markdown",
   "id": "3d2fd125-6688-46c6-bff2-5e8bb3957b87",
   "metadata": {},
   "source": [
    "Mostra o nome do gesto/movimento na janela interativa (REPL) :"
   ]
  },
  {
   "cell_type": "markdown",
   "id": "2b594593-2261-4ae8-b75e-2a2b2fcd5bec",
   "metadata": {},
   "source": [
    "```python\n",
    "from microbit import *\n",
    "while True:\n",
    "    print(accelerometer.current_gesture())\n",
    "    sleep(1000)\n",
    "```"
   ]
  },
  {
   "cell_type": "markdown",
   "id": "6710b2de-50db-4cfc-b846-58628e412a6f",
   "metadata": {},
   "source": [
    "#### Tarefa"
   ]
  },
  {
   "cell_type": "markdown",
   "id": "9070b1a2-91fb-462a-a97d-c11c14fa41ab",
   "metadata": {},
   "source": [
    "Use gestos para aumentar e diminuir um contador (entre 0 e 9) e mostrar o mostrar o valor numérico na tela de 5x5 LED's e na janela interativa (REPL) do Mu Editor."
   ]
  },
  {
   "cell_type": "markdown",
   "id": "49b20b00-5678-46a8-a3b2-139d4c2c63fd",
   "metadata": {},
   "source": [
    "Resposta :\n",
    "```python\n",
    "\n",
    "```"
   ]
  },
  {
   "cell_type": "markdown",
   "id": "e07a51e6-aaca-4546-a8fc-4d3e6d49ede4",
   "metadata": {},
   "source": [
    "### Produzindo som para síntese de voz, música, etc"
   ]
  },
  {
   "cell_type": "markdown",
   "id": "162c809b-4e93-4992-be82-7b7a0b5d980b",
   "metadata": {},
   "source": [
    "### Leitura de sensor de aceleração 3D (acelerômetro) do BBC micro:bit"
   ]
  },
  {
   "cell_type": "markdown",
   "id": "97866492-d3e6-4d19-8f7b-34afd2836283",
   "metadata": {},
   "source": [
    "### Medindo a aceleração local da gravidade da Terra"
   ]
  },
  {
   "cell_type": "markdown",
   "id": "728b3d37-97e5-438b-823a-af05f784268d",
   "metadata": {},
   "source": [
    "### Medindo aceleração centrífuga/centrípeta em rotação"
   ]
  }
 ],
 "metadata": {
  "kernelspec": {
   "display_name": "Python 3 (ipykernel)",
   "language": "python",
   "name": "python3"
  },
  "language_info": {
   "codemirror_mode": {
    "name": "ipython",
    "version": 3
   },
   "file_extension": ".py",
   "mimetype": "text/x-python",
   "name": "python",
   "nbconvert_exporter": "python",
   "pygments_lexer": "ipython3",
   "version": "3.11.7"
  }
 },
 "nbformat": 4,
 "nbformat_minor": 5
}
