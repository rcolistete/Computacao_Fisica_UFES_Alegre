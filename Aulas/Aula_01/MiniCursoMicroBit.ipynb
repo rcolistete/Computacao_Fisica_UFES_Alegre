{
 "cells": [
  {
   "cell_type": "markdown",
   "metadata": {
    "slideshow": {
     "slide_type": "slide"
    }
   },
   "source": [
    "# <div style=\"text-align:center; color:blue\">Mini-Curso sobre Programação em BBC Micro:bit </div>\n",
    "## <div style=\"text-align:center; color:red\">@ ERUS / UFES-Vitória - 21/05/2018</div>\n",
    "### <center>Prof. Dr. Roberto Colistete Jr. - DQF / CCENS / UFES-Alegre</center>\n",
    "### <div style=\"text-align:center; color:red\">http://www.robertocolistete.net/MiniCursoMicroBit20180521</div>\n",
    "Essa apresentação utiliza [Jupyter notebook](http://jupyter.org/), software gratuito e de código-fonte aberto.\n",
    "<center><img src=\"BBCMicrobit.png\" alt=\"BBC Micro:bit\" width=\"700\" height=\"500\"></center>"
   ]
  },
  {
   "cell_type": "markdown",
   "metadata": {
    "slideshow": {
     "slide_type": "slide"
    }
   },
   "source": [
    "## O que é BBC Micro:bit ?\n",
    "### R.: é um microcontrolador para uso educacional que foi distribuído  gratuitamente para 1 milhão de estudantes britânicos entre 11-12 anos de idade, desde 22/04/2016.\n",
    "### [Características do BBC Micro:bit](http://microbit.org/guide/features/)"
   ]
  },
  {
   "cell_type": "code",
   "execution_count": 1,
   "metadata": {
    "slideshow": {
     "slide_type": "subslide"
    }
   },
   "outputs": [
    {
     "data": {
      "text/html": [
       "<iframe width=100% height=500 src=\"http://microbit.org/guide/features/\"></iframe>\n"
      ],
      "text/plain": [
       "<IPython.core.display.HTML object>"
      ]
     },
     "metadata": {},
     "output_type": "display_data"
    }
   ],
   "source": [
    "%%HTML\n",
    "<iframe width=100% height=500 src=\"http://microbit.org/guide/features/\"></iframe>"
   ]
  },
  {
   "cell_type": "markdown",
   "metadata": {
    "slideshow": {
     "slide_type": "slide"
    }
   },
   "source": [
    "## Links recomendados :\n",
    "* [Site principal de BBC Micro:bit](http://microbit.org/)\n",
    "* [Lista muito completa de tudo sobre BBC Micro:bit : \"A curated list of BBC micro:bit resources\"](https://github.com/carlosperate/awesome-microbit)"
   ]
  },
  {
   "cell_type": "markdown",
   "metadata": {
    "slideshow": {
     "slide_type": "fragment"
    }
   },
   "source": [
    "### Links sobre programação em BBC Micro:bit :\n",
    "* [Micro:bit Let's Code - editores online para JavaScript Blocks Editor e (Micro)Python](http://microbit.org/code/)\n",
    "* [Review: Programming the BBC micro:bit - 06/09/2016](https://www.elektormagazine.com/news/review-programming-the-bbc-micro-bit)\n",
    "* livro [\"Micro:Bit Basics: A first guide for hobbyists, students and teachers of the BBC’s 'microbit' programmable computer\", 82 páginas](https://www.amazon.com/gp/product/1537331019/)\n",
    "* livro [\"BBC Micro:bit: Tests Tricks Secrets Code\", 122 pág.](https://www.amazon.com/gp/product/1541200721/)"
   ]
  },
  {
   "cell_type": "markdown",
   "metadata": {
    "slideshow": {
     "slide_type": "subslide"
    }
   },
   "source": [
    "### Links sobre MicroPython para BBC Micro:bit :\n",
    "* [MicroPython - Python for microcontrollers](http://micropython.org/)\n",
    "* [Documentação de MicroPython para BBC Micro:bit](http://microbit-micropython.readthedocs.io/en/latest/)\n",
    "* melhor livro sobre MicroPython : [\"Programming with MicroPython: Embedded Programming with Microcontrollers and Python\", 270 pág](http://shop.oreilly.com/product/0636920056515.do).\n",
    "[Link de versão eletrônica gratuita (PDF de 17 MB)](http://link.oreilly.com/Y0rsg0TQx00Iz000WMF0OS3)\n",
    "* 1o livro sobre MicroPython : [Python for Microcontrollers: Getting Started with MicroPython\", 288 pág.](https://www.amazon.com.br/Python-Microcontrollers-Getting-Started-MicroPython/dp/1259644537)"
   ]
  },
  {
   "cell_type": "markdown",
   "metadata": {
    "slideshow": {
     "slide_type": "slide"
    }
   },
   "source": [
    "# Programando em BBC Micro:bit"
   ]
  },
  {
   "cell_type": "markdown",
   "metadata": {
    "slideshow": {
     "slide_type": "subslide"
    }
   },
   "source": [
    "## <div style=\"text-align:center; color:blue\">JavaScript Blocks</div>\n",
    "\n",
    "### Vide [Let's Code do site Microbit.org](http://microbit.org/code/) para lições, documentação e editor/simulador online."
   ]
  },
  {
   "cell_type": "markdown",
   "metadata": {
    "slideshow": {
     "slide_type": "subslide"
    }
   },
   "source": [
    "## <div style=\"text-align:center; color:green\">MicroPython</div>\n",
    "\n",
    "### Vide [Let's Code do site Microbit.org](http://microbit.org/code/) para [documentação](http://microbit.org/guide/python/) e [editor online](http://python.microbit.org/editor.html).\n",
    "\n",
    "### Mais recomendado é o software [Mu Editor](https://codewith.mu/), que permite uso offline e tem mais recursos (prompt interativo, gerenciador de arquivos, etc). Para versão mais recente, vide [projeto no GitHub] (https://github.com/mu-editor/mu/tree/master/package) onde no final tem link de instaladores para Linux, Mac OS e Windows.\n",
    "\n",
    "### No Linux é recomendado instalar :\n",
    "\n",
    "* screen para acesso interativo (REPL - Read Evaluate Print Loop). Usar no terminal \"screen /dev/ttyACM0 115200\";\n",
    "* [rshell](https://github.com/dhylands/rshell) para acesso interativo;\n",
    "* [uflash](https://github.com/ntoll/uflash) para gravar firmware MicroPython via comando de linha;\n",
    "* [ufs](https://github.com/ntoll/microfs) para gerenciamento de arquivos da memória flash interna do BBC Micro:bit."
   ]
  },
  {
   "cell_type": "markdown",
   "metadata": {
    "slideshow": {
     "slide_type": "slide"
    }
   },
   "source": [
    "# <div style=\"text-align:center; color:green\">Praticando MicroPython no Mu Editor</div>"
   ]
  },
  {
   "cell_type": "markdown",
   "metadata": {
    "editable": true,
    "slideshow": {
     "slide_type": ""
    },
    "tags": []
   },
   "source": [
    "A RAM livre é entre 8-9KB, dependendo da versão do MicroPython :\n",
    "\n",
    "    import gc\n",
    "    gc.mem_free()\n",
    "    gc.collect()\n",
    "    gc.mem_free()\n",
    "    import os\n",
    "    os.uname()"
   ]
  },
  {
   "cell_type": "markdown",
   "metadata": {
    "slideshow": {
     "slide_type": "fragment"
    }
   },
   "source": [
    "Uso interativo praticando \"accelerometer\", \"compass\", \"display\", etc.\n",
    "\n",
    "..."
   ]
  },
  {
   "cell_type": "markdown",
   "metadata": {
    "slideshow": {
     "slide_type": "subslide"
    }
   },
   "source": [
    "Script para ler o acelerômetro e calcular o módulo da aceleração (gravidade, etc) em milig, exibindo na tela com texto rolando :\n",
    "\n",
    "    from microbit import *\n",
    "    while True:\n",
    "        alista = accelerometer.get_values()\n",
    "        amodulo = (alista[0]**2 + alista[1]**2 + alista[2]**2)**(1/2)\n",
    "        display.scroll('a='+str(amodulo)+'mg')\n",
    "        sleep(500)"
   ]
  },
  {
   "cell_type": "markdown",
   "metadata": {
    "slideshow": {
     "slide_type": "subslide"
    }
   },
   "source": [
    "Script para calcular a aceleração máxima (descontando a gravidade) e exibir na tela a cada aprox. 3 segundos :\n",
    "\n",
    "    from microbit import *\n",
    "    amax = 0\n",
    "    while True:\n",
    "        for i in range(150):\n",
    "            alista = accelerometer.get_values()\n",
    "            amodulo = ((alista[0]**2 + alista[1]**2 + alista[2]**2)**(1/2))-1000\n",
    "            if amodulo > amax:\n",
    "                amax = amodulo\n",
    "            sleep(20)\n",
    "        display.scroll(str(int(amax)),wait=False)"
   ]
  },
  {
   "cell_type": "markdown",
   "metadata": {
    "slideshow": {
     "slide_type": "subslide"
    }
   },
   "source": [
    "Teste de velocidade de leitura do ADC de 10 bits :\n",
    "\n",
    "    from microbit import *\n",
    "    def ADCloopBenchmark():\n",
    "        adcread = pin1.read_analog\n",
    "        t1 = running_time()\n",
    "        for i in range(20000):\n",
    "            val = adcread()\n",
    "        t2 = running_time()\n",
    "        print(\"20000 ADC readings done after %u ms.\" %(t2-t1))\n",
    "        print(\"Mean time for each ADC reading = %15.13f us\" % ((t2-t1)/20.0))\n",
    "        print(\"ADC reading = %15.13f ksamples/s\" % ((20*10**3)/(t2-t1)))\n",
    "    ADCloopBenchmark()"
   ]
  },
  {
   "cell_type": "markdown",
   "metadata": {
    "slideshow": {
     "slide_type": "subslide"
    }
   },
   "source": [
    "Análise estatística (média, variância e desvio padrão) de leitura do ADC de 10 bits :\n",
    "\n",
    "    from microbit import *\n",
    "    import math\n",
    "    numADCreadings = 100\n",
    "    def ADCloopMeanStdDev():\n",
    "        adcread = pin1.read_analog\n",
    "        samplesADC = [0.0]*numADCreadings; meanADC = 0.0\n",
    "        i = 0\n",
    "        while (i < numADCreadings):\n",
    "            adcint = adcread()\n",
    "            samplesADC[i] = adcint\n",
    "            meanADC += adcint\n",
    "            i += 1\n",
    "        meanADC /= numADCreadings\n",
    "        varianceADC = 0.0\n",
    "        for adcint in samplesADC:\n",
    "            varianceADC += (adcint - meanADC)**2\n",
    "        varianceADC /= (numADCreadings - 1)\n",
    "        print(\"%u ADC readings :\\n%s\" %(numADCreadings, str(samplesADC)))\n",
    "        print(\"Mean of ADC readings (0-1023) = %15.13f\" % meanADC)\n",
    "        print(\"Mean of ADC readings (0-3300 mV) = %15.13f\" % (meanADC*3300/1024))\n",
    "        print(\"Variance of ADC readings = %15.13f\" % varianceADC)\n",
    "        print(\"10**6*Variance/(Mean**2) of ADC readings = %15.13f\" % ((varianceADC*10**6)//(meanADC**2)))\n",
    "        print(\"Standard deviation of ADC readings = %15.13f\" % math.sqrt(varianceADC)) "
   ]
  },
  {
   "cell_type": "markdown",
   "metadata": {
    "slideshow": {
     "slide_type": "subslide"
    }
   },
   "source": [
    "Benchmark matemático com cálculo de cosmologia observacional de modelo LambdaCDM (envolvendo matéria escura, energia escura e matéria bariônica) :\n",
    "\n",
    "    from math import sqrt\n",
    "    from microbit import running_time\n",
    "\n",
    "    def hsquare(z,Om0,Ol,Ob):\n",
    "       return (Om0+Ob)*((1+z)**3) + Ol + (1-Om0-Ol-Ob)*((1+z)**2)\n",
    "    def suminvsqrthsquare(numz,Om0,Ol,Ob):\n",
    "        i = 0\n",
    "        invnumz = 1.0/numz\n",
    "        sum = 0.0\n",
    "        while i < numz:\n",
    "            sum += 1/sqrt(hsquare(i*invnumz,Om0,Ol,Ob))\n",
    "            i += 1\n",
    "        return sum\n",
    "    numz = 5*10**4\n",
    "    print(\"Doing %i calculations...\" % numz)\n",
    "    timet1 = running_time()\n",
    "    suminvsqrth2 = suminvsqrthsquare(numz,0.25,0.7,0.05)\n",
    "    timet2 = running_time()\n",
    "    print(\"calculations done after %u ms.\" %(timet2-timet1))\n",
    "    print(\"Mean time for each inverse h square calculation = %15.13f us\" % ((1000.0*(timet2-timet1))/numz))\n",
    "    print(\"Sum of inverse h square = %15.13f\" % suminvsqrth2)\n",
    "    print(\"Mean of inverse h square = %15.13f\" % (suminvsqrth2/numz))"
   ]
  },
  {
   "cell_type": "markdown",
   "metadata": {
    "slideshow": {
     "slide_type": "subslide"
    }
   },
   "source": [
    "Programa \"FreeFall\" (parte de trabalho de IC na UFES-Alegre) p/ calcular tempo e distância de queda livre (use com cuidado !) :\n",
    "\n",
    "    from microbit import *\n",
    "    import math\n",
    "\n",
    "    def FreeFallTiming(accelfreefall, pausems, lsbvaluemg, verbose=False):\n",
    "        accelmodulemg = 980.0\n",
    "        display.show(Image.ALL_CLOCKS, wait=False, loop=True, delay=100)\n",
    "        n = 0\n",
    "        ti = running_time()\n",
    "        while accelmodulemg > accelfreefall:   # While not free fall\n",
    "            accel3d = accelerometer.get_values()\n",
    "            accelmodulemg = math.sqrt(accel3d[0]**2 + accel3d[1]**2 + accel3d[2]**2)/lsbvaluemg\n",
    "            n += 1\n",
    "        tf = running_time()\n",
    "        if verbose:\n",
    "            print(\"%u loops, mean time before free fall = %4.3f ms\" % (n, ((1.0*(tf-ti))/n)))\n",
    "\n",
    "        display.show(Image.ARROW_S)\n",
    "        accelmodulemg = 0.0\n",
    "        n = 0\n",
    "        ti = running_time()\n",
    "        while accelmodulemg <= 4.0*accelfreefall:   # While free fall\n",
    "            accel3d = accelerometer.get_values()\n",
    "            accelmodulemg = math.sqrt(accel3d[0]**2 + accel3d[1]**2 + accel3d[2]**2)/lsbvaluemg\n",
    "            n += 1\n",
    "        tf = running_time()\n",
    "        if verbose:\n",
    "            print(\"%u loops, mean time during free fall = %4.3f ms\" % (n, ((1.0*(tf-ti))/n)))\n",
    "\n",
    "        freefalltimems = (tf - ti)*0.001\n",
    "        distance = (9.8/2)*freefalltimems**2\n",
    "        text = '%4.3f s %4.3f m' % (freefalltimems, distance)\n",
    "        if verbose:\n",
    "            print(\"Free fall time and distance = %s\" % text)\n",
    "        display.scroll(text, wait=False, loop=True)\n",
    "\n",
    "    i2c.write(0x1d, b'\\x2a\\x00')  # Disable to be able to configure\n",
    "    i2c.write(0x1d, b'\\x0e\\x00')  # 2g scale\n",
    "    lsbvaluemg = 1.024\n",
    "    i2c.write(0x1d, b'\\x2b\\x02')  # High-resolution\n",
    "    i2c.write(0x1d, b'\\x2a\\x01')  # Sample rate of 800Hz\n",
    "    print('Free Fall Experiment with BBC Micro:bit accelerometer')\n",
    "    print('2g, 800 Hz, high resolution :')\n",
    "\n",
    "    display.scroll('Free Fall time')\n",
    "\n",
    "    while True:\n",
    "        FreeFallTiming(100.0, 1, lsbvaluemg, verbose=True)\n",
    "        while not button_a.is_pressed():\n",
    "            sleep(10)"
   ]
  },
  {
   "cell_type": "code",
   "execution_count": null,
   "metadata": {},
   "outputs": [],
   "source": []
  }
 ],
 "metadata": {
  "anaconda-cloud": {},
  "celltoolbar": "Slideshow",
  "kernelspec": {
   "display_name": "Python 3 (ipykernel)",
   "language": "python",
   "name": "python3"
  },
  "language_info": {
   "codemirror_mode": {
    "name": "ipython",
    "version": 3
   },
   "file_extension": ".py",
   "mimetype": "text/x-python",
   "name": "python",
   "nbconvert_exporter": "python",
   "pygments_lexer": "ipython3",
   "version": "3.11.7"
  }
 },
 "nbformat": 4,
 "nbformat_minor": 4
}
